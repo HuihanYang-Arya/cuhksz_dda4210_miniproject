{
 "cells": [],
 "metadata": {
  "kernelspec": {
   "display_name": "base",
   "language": "python",
   "name": "python3"
  },
  "language_info": {
   "codemirror_mode": {
    "name": "ipython",
    "version": 3
   },
   "file_extension": ".py",
   "mimetype": "text/x-python",
   "name": "python",
   "nbconvert_exporter": "python",
   "pygments_lexer": "ipython3",
   "version": "3.9.7"
  },
  "orig_nbformat": 4,
  "vscode": {
   "interpreter": {
    "hash": "7a5152ad0efa82a444bbb7b5b09330ae1eae37d6d488966c94b24f2df6242daa"
   }
  }
 },
 "nbformat": 4,
 "nbformat_minor": 2
}
